{
  "nbformat": 4,
  "nbformat_minor": 0,
  "metadata": {
    "colab": {
      "provenance": [],
      "authorship_tag": "ABX9TyOFRUEnITxet8M7dtGq/Rgh"
    },
    "kernelspec": {
      "name": "python3",
      "display_name": "Python 3"
    },
    "language_info": {
      "name": "python"
    }
  },
  "cells": [
    {
      "cell_type": "code",
      "execution_count": 19,
      "metadata": {
        "id": "Dg42UtBIr9jE"
      },
      "outputs": [],
      "source": [
        "\n",
        "import tensorflow as tf\n",
        "import numpy as np\n",
        "from tensorflow import keras\n",
        "from tensorflow.keras.callbacks import TensorBoard\n",
        "tensorboard_callback = TensorBoard('.logdir')\n"
      ]
    },
    {
      "cell_type": "markdown",
      "source": [
        "### First Deep Learning Model"
      ],
      "metadata": {
        "id": "moisQ_SVspNF"
      }
    },
    {
      "cell_type": "code",
      "source": [
        "\n",
        "# Defining the Hyper Parameters\n",
        "EPOCHS = 20\n",
        "BATCH_SIZE = 128\n",
        "VERBOSE = 1\n",
        "NB_CLASSES = 10\n",
        "N_HIDDEN = 128\n",
        "VALIDATION_SPLIT = 0.2\n",
        "DROPOUT = 0.5\n"
      ],
      "metadata": {
        "id": "pf0nmEsgss2M"
      },
      "execution_count": 20,
      "outputs": []
    },
    {
      "cell_type": "code",
      "source": [
        "mnist = keras.datasets.mnist\n",
        "(X_train, Y_train), (X_test, Y_test) = mnist.load_data()"
      ],
      "metadata": {
        "id": "5EiqRTWztCSI"
      },
      "execution_count": 21,
      "outputs": []
    },
    {
      "cell_type": "code",
      "source": [
        "# Reshaping the data\n",
        "RESHAPED = 784\n",
        "X_train = X_train.reshape(60000, RESHAPED)\n",
        "X_test = X_test.reshape(10000, RESHAPED)\n",
        "X_train = X_train.astype('float32')\n",
        "X_test = X_test.astype('float32')\n"
      ],
      "metadata": {
        "id": "z7W9-L-AtNpX"
      },
      "execution_count": 22,
      "outputs": []
    },
    {
      "cell_type": "code",
      "source": [
        "# Normalizing the data\n",
        "X_train, X_test = X_train/ 255.0, X_test / 255.0\n",
        "print(X_train.shape[0], 'train samples')\n",
        "print(X_test.shape[0], 'test samples')\n"
      ],
      "metadata": {
        "colab": {
          "base_uri": "https://localhost:8080/"
        },
        "id": "3AekTDtcthur",
        "outputId": "3ae8e5d3-558f-44d2-a759-13f4fd4702dc"
      },
      "execution_count": 5,
      "outputs": [
        {
          "output_type": "stream",
          "name": "stdout",
          "text": [
            "60000 train samples\n",
            "10000 test samples\n"
          ]
        }
      ]
    },
    {
      "cell_type": "code",
      "source": [
        "# to one-hot\n",
        "# number of classes is based on the number of digits in the dataset\n",
        "Y_train = tf.keras.utils.to_categorical(Y_train, NB_CLASSES)\n",
        "Y_test = tf.keras.utils.to_categorical(Y_test, NB_CLASSES)"
      ],
      "metadata": {
        "id": "ihlg7GhQt4Ld"
      },
      "execution_count": 6,
      "outputs": []
    },
    {
      "cell_type": "code",
      "source": [
        "# Building the first model\n",
        "\n",
        "model = tf.keras.models.Sequential()\n",
        "model.add(keras.layers.Dense(N_HIDDEN, input_shape=(RESHAPED,), name='dense_layer', activation='relu' ))\n",
        "model.add(keras.layers.Dropout(DROPOUT))\n",
        "model.add(keras.layers.Dense(N_HIDDEN, name='dense_layer_2', activation='relu'))\n",
        "model.add(keras.layers.Dropout(DROPOUT))\n",
        "model.add(keras.layers.Dense(NB_CLASSES, name='dense_layer_3', activation='softmax'))\n"
      ],
      "metadata": {
        "id": "3SuuovdcuTFJ"
      },
      "execution_count": 10,
      "outputs": []
    },
    {
      "cell_type": "code",
      "source": [
        "model.summary()"
      ],
      "metadata": {
        "colab": {
          "base_uri": "https://localhost:8080/"
        },
        "id": "vhkfuD1WvlpB",
        "outputId": "9f49cb56-6961-4a91-dd1a-6dd1d1634727"
      },
      "execution_count": 11,
      "outputs": [
        {
          "output_type": "stream",
          "name": "stdout",
          "text": [
            "Model: \"sequential_3\"\n",
            "_________________________________________________________________\n",
            " Layer (type)                Output Shape              Param #   \n",
            "=================================================================\n",
            " dense_layer (Dense)         (None, 128)               100480    \n",
            "                                                                 \n",
            " dropout_1 (Dropout)         (None, 128)               0         \n",
            "                                                                 \n",
            " dense_layer_2 (Dense)       (None, 128)               16512     \n",
            "                                                                 \n",
            " dropout_2 (Dropout)         (None, 128)               0         \n",
            "                                                                 \n",
            " dense_layer_3 (Dense)       (None, 10)                1290      \n",
            "                                                                 \n",
            "=================================================================\n",
            "Total params: 118282 (462.04 KB)\n",
            "Trainable params: 118282 (462.04 KB)\n",
            "Non-trainable params: 0 (0.00 Byte)\n",
            "_________________________________________________________________\n"
          ]
        }
      ]
    },
    {
      "cell_type": "code",
      "source": [
        "model.compile(optimizer='Adam', loss='categorical_crossentropy', metrics=['accuracy'])"
      ],
      "metadata": {
        "id": "cC0vBtJfvpXd"
      },
      "execution_count": 12,
      "outputs": []
    },
    {
      "cell_type": "code",
      "source": [
        "model.fit(X_train, Y_train, batch_size=BATCH_SIZE, epochs=EPOCHS, verbose=VERBOSE, validation_split=VALIDATION_SPLIT, callbacks=[tensorboard_callback])"
      ],
      "metadata": {
        "colab": {
          "base_uri": "https://localhost:8080/"
        },
        "id": "TXsg8L4rvyvY",
        "outputId": "7aca1bd8-f66e-4ade-97b6-dcd4ad5c0247"
      },
      "execution_count": 13,
      "outputs": [
        {
          "output_type": "stream",
          "name": "stdout",
          "text": [
            "Epoch 1/20\n",
            "375/375 [==============================] - 3s 5ms/step - loss: 0.7024 - accuracy: 0.7771 - val_loss: 0.2246 - val_accuracy: 0.9341\n",
            "Epoch 2/20\n",
            "375/375 [==============================] - 2s 5ms/step - loss: 0.3407 - accuracy: 0.9019 - val_loss: 0.1728 - val_accuracy: 0.9506\n",
            "Epoch 3/20\n",
            "375/375 [==============================] - 2s 4ms/step - loss: 0.2781 - accuracy: 0.9183 - val_loss: 0.1466 - val_accuracy: 0.9581\n",
            "Epoch 4/20\n",
            "375/375 [==============================] - 2s 4ms/step - loss: 0.2404 - accuracy: 0.9293 - val_loss: 0.1306 - val_accuracy: 0.9617\n",
            "Epoch 5/20\n",
            "375/375 [==============================] - 2s 5ms/step - loss: 0.2154 - accuracy: 0.9367 - val_loss: 0.1233 - val_accuracy: 0.9640\n",
            "Epoch 6/20\n",
            "375/375 [==============================] - 2s 5ms/step - loss: 0.1956 - accuracy: 0.9413 - val_loss: 0.1150 - val_accuracy: 0.9657\n",
            "Epoch 7/20\n",
            "375/375 [==============================] - 2s 4ms/step - loss: 0.1831 - accuracy: 0.9455 - val_loss: 0.1092 - val_accuracy: 0.9678\n",
            "Epoch 8/20\n",
            "375/375 [==============================] - 2s 4ms/step - loss: 0.1729 - accuracy: 0.9479 - val_loss: 0.1049 - val_accuracy: 0.9694\n",
            "Epoch 9/20\n",
            "375/375 [==============================] - 2s 4ms/step - loss: 0.1641 - accuracy: 0.9508 - val_loss: 0.1037 - val_accuracy: 0.9703\n",
            "Epoch 10/20\n",
            "375/375 [==============================] - 2s 4ms/step - loss: 0.1606 - accuracy: 0.9525 - val_loss: 0.1043 - val_accuracy: 0.9707\n",
            "Epoch 11/20\n",
            "375/375 [==============================] - 2s 5ms/step - loss: 0.1503 - accuracy: 0.9551 - val_loss: 0.1008 - val_accuracy: 0.9726\n",
            "Epoch 12/20\n",
            "375/375 [==============================] - 2s 5ms/step - loss: 0.1462 - accuracy: 0.9558 - val_loss: 0.0944 - val_accuracy: 0.9735\n",
            "Epoch 13/20\n",
            "375/375 [==============================] - 2s 5ms/step - loss: 0.1375 - accuracy: 0.9573 - val_loss: 0.0948 - val_accuracy: 0.9738\n",
            "Epoch 14/20\n",
            "375/375 [==============================] - 2s 5ms/step - loss: 0.1355 - accuracy: 0.9598 - val_loss: 0.0920 - val_accuracy: 0.9738\n",
            "Epoch 15/20\n",
            "375/375 [==============================] - 2s 5ms/step - loss: 0.1312 - accuracy: 0.9605 - val_loss: 0.0912 - val_accuracy: 0.9740\n",
            "Epoch 16/20\n",
            "375/375 [==============================] - 2s 4ms/step - loss: 0.1311 - accuracy: 0.9608 - val_loss: 0.0974 - val_accuracy: 0.9739\n",
            "Epoch 17/20\n",
            "375/375 [==============================] - 2s 5ms/step - loss: 0.1268 - accuracy: 0.9618 - val_loss: 0.0902 - val_accuracy: 0.9754\n",
            "Epoch 18/20\n",
            "375/375 [==============================] - 2s 4ms/step - loss: 0.1229 - accuracy: 0.9630 - val_loss: 0.0892 - val_accuracy: 0.9742\n",
            "Epoch 19/20\n",
            "375/375 [==============================] - 2s 6ms/step - loss: 0.1183 - accuracy: 0.9625 - val_loss: 0.0879 - val_accuracy: 0.9764\n",
            "Epoch 20/20\n",
            "375/375 [==============================] - 2s 4ms/step - loss: 0.1185 - accuracy: 0.9638 - val_loss: 0.0889 - val_accuracy: 0.9751\n"
          ]
        },
        {
          "output_type": "execute_result",
          "data": {
            "text/plain": [
              "<keras.src.callbacks.History at 0x7da12f3950f0>"
            ]
          },
          "metadata": {},
          "execution_count": 13
        }
      ]
    },
    {
      "cell_type": "code",
      "source": [
        "test_loss, test_acc = model.evaluate(X_test, Y_test)\n",
        "print('Test accuracy:', test_acc)\n",
        "predictions = model.predict(X_test)"
      ],
      "metadata": {
        "colab": {
          "base_uri": "https://localhost:8080/"
        },
        "id": "ApZJ7ZMJwK77",
        "outputId": "23276951-7c7a-4aba-a14d-cb9d4d53c1be"
      },
      "execution_count": 14,
      "outputs": [
        {
          "output_type": "stream",
          "name": "stdout",
          "text": [
            "313/313 [==============================] - 0s 1ms/step - loss: 0.0855 - accuracy: 0.9747\n",
            "Test accuracy: 0.9746999740600586\n",
            "313/313 [==============================] - 0s 1ms/step\n"
          ]
        }
      ]
    },
    {
      "cell_type": "markdown",
      "source": [
        "## The Second Model"
      ],
      "metadata": {
        "id": "HuqTLUZKxWQI"
      }
    },
    {
      "cell_type": "code",
      "source": [
        "import tensorflow as tf\n",
        "import numpy as np\n",
        "from tensorflow import keras\n",
        "from tensorflow.keras.optimizers import SGD\n"
      ],
      "metadata": {
        "id": "eY3dgO3BwYhz"
      },
      "execution_count": 23,
      "outputs": []
    },
    {
      "cell_type": "code",
      "source": [
        "\n",
        "# Defining the Hyper Parameters\n",
        "EPOCHS = 20\n",
        "BATCH_SIZE = 256\n",
        "VERBOSE = 1\n",
        "NB_CLASSES = 10\n",
        "N_HIDDEN = 128\n",
        "VALIDATION_SPLIT = 0.2\n",
        "DROPOUT = 0.3\n",
        "OPTIMIZER = SGD(lr=0.001)\n",
        "\n"
      ],
      "metadata": {
        "colab": {
          "base_uri": "https://localhost:8080/"
        },
        "id": "ORiBbnRYxrJC",
        "outputId": "fe4db8c0-681c-4823-aac7-69cb3453aec8"
      },
      "execution_count": 24,
      "outputs": [
        {
          "output_type": "stream",
          "name": "stderr",
          "text": [
            "WARNING:absl:`lr` is deprecated in Keras optimizer, please use `learning_rate` or use the legacy optimizer, e.g.,tf.keras.optimizers.legacy.SGD.\n"
          ]
        }
      ]
    },
    {
      "cell_type": "code",
      "source": [
        "mnist = keras.datasets.mnist\n",
        "(X_train, Y_train), (X_test, Y_test) = mnist.load_data()\n"
      ],
      "metadata": {
        "id": "llhOxQWxEZss"
      },
      "execution_count": 25,
      "outputs": []
    },
    {
      "cell_type": "code",
      "source": [
        "\n",
        "RESHAPED = 784\n",
        "X_train = X_train.reshape(60000, RESHAPED)\n",
        "X_test = X_test.reshape(10000, RESHAPED)\n",
        "X_train = X_train.astype('float32')\n",
        "X_test = X_test.astype('float32')\n"
      ],
      "metadata": {
        "id": "6uoC5XLKFlyv"
      },
      "execution_count": 26,
      "outputs": []
    },
    {
      "cell_type": "code",
      "source": [
        "X_train, X_test = X_train / 255.0, X_test / 255.0\n",
        "print(X_train.shape[0], 'train samples')\n",
        "print(X_test.shape[0] , 'test samples')"
      ],
      "metadata": {
        "colab": {
          "base_uri": "https://localhost:8080/"
        },
        "id": "73prNlcbF6hQ",
        "outputId": "3ed9fb15-3cdb-4e82-d871-e9f8414485ca"
      },
      "execution_count": 27,
      "outputs": [
        {
          "output_type": "stream",
          "name": "stdout",
          "text": [
            "60000 train samples\n",
            "10000 test samples\n"
          ]
        }
      ]
    },
    {
      "cell_type": "code",
      "source": [
        "# Converting to one hot\n",
        "Y_train = tf.keras.utils.to_categorical(Y_train, NB_CLASSES)\n",
        "Y_test = tf.keras.utils.to_categorical(Y_test, NB_CLASSES)"
      ],
      "metadata": {
        "id": "nozQy-JsGKe9"
      },
      "execution_count": 28,
      "outputs": []
    },
    {
      "cell_type": "code",
      "source": [
        "\n",
        "model = tf.keras.models.Sequential()\n",
        "model.add(keras.layers.Dense(N_HIDDEN, input_shape=(RESHAPED,), name='dense_layer', activation='relu'))\n",
        "model.add(keras.layers.Dropout(DROPOUT))\n",
        "model.add(keras.layers.Dropout(DROPOUT))\n",
        "model.add(keras.layers.Dense(N_HIDDEN, name='dense_layer_2', activation='relu'))\n",
        "model.add(keras.layers.Dropout(DROPOUT))\n",
        "model.add(keras.layers.Dense(NB_CLASSES, name='dense_layers_3', activation='softmax'))\n"
      ],
      "metadata": {
        "id": "wNaxnbeVHECt"
      },
      "execution_count": 30,
      "outputs": []
    },
    {
      "cell_type": "code",
      "source": [
        "model.summary()"
      ],
      "metadata": {
        "colab": {
          "base_uri": "https://localhost:8080/"
        },
        "id": "1ZtOk7GiH_04",
        "outputId": "e12a3b6a-9770-439f-b137-7cde035f9d40"
      },
      "execution_count": 31,
      "outputs": [
        {
          "output_type": "stream",
          "name": "stdout",
          "text": [
            "Model: \"sequential_5\"\n",
            "_________________________________________________________________\n",
            " Layer (type)                Output Shape              Param #   \n",
            "=================================================================\n",
            " dense_layer (Dense)         (None, 128)               100480    \n",
            "                                                                 \n",
            " dropout_3 (Dropout)         (None, 128)               0         \n",
            "                                                                 \n",
            " dropout_4 (Dropout)         (None, 128)               0         \n",
            "                                                                 \n",
            " dense_layer_2 (Dense)       (None, 128)               16512     \n",
            "                                                                 \n",
            " dropout_5 (Dropout)         (None, 128)               0         \n",
            "                                                                 \n",
            " dense_layers_3 (Dense)      (None, 10)                1290      \n",
            "                                                                 \n",
            "=================================================================\n",
            "Total params: 118282 (462.04 KB)\n",
            "Trainable params: 118282 (462.04 KB)\n",
            "Non-trainable params: 0 (0.00 Byte)\n",
            "_________________________________________________________________\n"
          ]
        }
      ]
    },
    {
      "cell_type": "code",
      "source": [
        "model.compile(optimizer=OPTIMIZER, loss='categorical_crossentropy', metrics=['accuracy'])"
      ],
      "metadata": {
        "id": "F6pV0byeICZs"
      },
      "execution_count": 32,
      "outputs": []
    },
    {
      "cell_type": "code",
      "source": [
        "model.fit(X_train, Y_train, batch_size=BATCH_SIZE, epochs=EPOCHS, verbose=VERBOSE, validation_split=VALIDATION_SPLIT)"
      ],
      "metadata": {
        "colab": {
          "base_uri": "https://localhost:8080/"
        },
        "id": "CtjIgKdlIKwY",
        "outputId": "0f97bbe7-9d9e-46d7-8c24-52d4ecb4e1ac"
      },
      "execution_count": 33,
      "outputs": [
        {
          "output_type": "stream",
          "name": "stdout",
          "text": [
            "Epoch 1/20\n",
            "188/188 [==============================] - 2s 7ms/step - loss: 2.1433 - accuracy: 0.2337 - val_loss: 1.7533 - val_accuracy: 0.6799\n",
            "Epoch 2/20\n",
            "188/188 [==============================] - 1s 6ms/step - loss: 1.6369 - accuracy: 0.4909 - val_loss: 1.1253 - val_accuracy: 0.7830\n",
            "Epoch 3/20\n",
            "188/188 [==============================] - 1s 6ms/step - loss: 1.2453 - accuracy: 0.6047 - val_loss: 0.7878 - val_accuracy: 0.8328\n",
            "Epoch 4/20\n",
            "188/188 [==============================] - 1s 8ms/step - loss: 1.0213 - accuracy: 0.6730 - val_loss: 0.6294 - val_accuracy: 0.8529\n",
            "Epoch 5/20\n",
            "188/188 [==============================] - 1s 7ms/step - loss: 0.9027 - accuracy: 0.7116 - val_loss: 0.5429 - val_accuracy: 0.8643\n",
            "Epoch 6/20\n",
            "188/188 [==============================] - 1s 6ms/step - loss: 0.8107 - accuracy: 0.7438 - val_loss: 0.4826 - val_accuracy: 0.8750\n",
            "Epoch 7/20\n",
            "188/188 [==============================] - 1s 6ms/step - loss: 0.7445 - accuracy: 0.7655 - val_loss: 0.4427 - val_accuracy: 0.8832\n",
            "Epoch 8/20\n",
            "188/188 [==============================] - 1s 6ms/step - loss: 0.6939 - accuracy: 0.7824 - val_loss: 0.4115 - val_accuracy: 0.8887\n",
            "Epoch 9/20\n",
            "188/188 [==============================] - 1s 6ms/step - loss: 0.6526 - accuracy: 0.7984 - val_loss: 0.3866 - val_accuracy: 0.8929\n",
            "Epoch 10/20\n",
            "188/188 [==============================] - 1s 6ms/step - loss: 0.6273 - accuracy: 0.8083 - val_loss: 0.3681 - val_accuracy: 0.8972\n",
            "Epoch 11/20\n",
            "188/188 [==============================] - 1s 6ms/step - loss: 0.5916 - accuracy: 0.8196 - val_loss: 0.3520 - val_accuracy: 0.9012\n",
            "Epoch 12/20\n",
            "188/188 [==============================] - 1s 6ms/step - loss: 0.5743 - accuracy: 0.8239 - val_loss: 0.3395 - val_accuracy: 0.9034\n",
            "Epoch 13/20\n",
            "188/188 [==============================] - 1s 6ms/step - loss: 0.5587 - accuracy: 0.8315 - val_loss: 0.3280 - val_accuracy: 0.9066\n",
            "Epoch 14/20\n",
            "188/188 [==============================] - 2s 10ms/step - loss: 0.5372 - accuracy: 0.8382 - val_loss: 0.3176 - val_accuracy: 0.9085\n",
            "Epoch 15/20\n",
            "188/188 [==============================] - 1s 7ms/step - loss: 0.5231 - accuracy: 0.8426 - val_loss: 0.3077 - val_accuracy: 0.9112\n",
            "Epoch 16/20\n",
            "188/188 [==============================] - 1s 6ms/step - loss: 0.5059 - accuracy: 0.8480 - val_loss: 0.3005 - val_accuracy: 0.9133\n",
            "Epoch 17/20\n",
            "188/188 [==============================] - 1s 6ms/step - loss: 0.4913 - accuracy: 0.8523 - val_loss: 0.2919 - val_accuracy: 0.9147\n",
            "Epoch 18/20\n",
            "188/188 [==============================] - 1s 6ms/step - loss: 0.4818 - accuracy: 0.8573 - val_loss: 0.2858 - val_accuracy: 0.9166\n",
            "Epoch 19/20\n",
            "188/188 [==============================] - 1s 6ms/step - loss: 0.4710 - accuracy: 0.8618 - val_loss: 0.2792 - val_accuracy: 0.9179\n",
            "Epoch 20/20\n",
            "188/188 [==============================] - 1s 6ms/step - loss: 0.4595 - accuracy: 0.8622 - val_loss: 0.2738 - val_accuracy: 0.9195\n"
          ]
        },
        {
          "output_type": "execute_result",
          "data": {
            "text/plain": [
              "<keras.src.callbacks.History at 0x7da12c625420>"
            ]
          },
          "metadata": {},
          "execution_count": 33
        }
      ]
    },
    {
      "cell_type": "code",
      "source": [
        "test_loss, test_acc = model.evaluate(X_test, Y_test)\n",
        "print('Test accuracy: ', test_acc)"
      ],
      "metadata": {
        "colab": {
          "base_uri": "https://localhost:8080/"
        },
        "id": "Wp-YuEHHI2Ll",
        "outputId": "17349ff9-0ebd-43d5-f686-fea861a450c5"
      },
      "execution_count": 34,
      "outputs": [
        {
          "output_type": "stream",
          "name": "stdout",
          "text": [
            "313/313 [==============================] - 0s 1ms/step - loss: 0.2763 - accuracy: 0.9193\n",
            "Test accuracy:  0.9193000197410583\n"
          ]
        }
      ]
    },
    {
      "cell_type": "code",
      "source": [
        "prediction = model.predict(X_test)"
      ],
      "metadata": {
        "colab": {
          "base_uri": "https://localhost:8080/"
        },
        "id": "l37P0VCyJB0A",
        "outputId": "ec48dcb0-7152-462e-e330-d75f1764db52"
      },
      "execution_count": 35,
      "outputs": [
        {
          "output_type": "stream",
          "name": "stdout",
          "text": [
            "313/313 [==============================] - 0s 1ms/step\n"
          ]
        }
      ]
    },
    {
      "cell_type": "markdown",
      "source": [
        "## Third Deep Learning Model with Distribution Strategy"
      ],
      "metadata": {
        "id": "4JJBufEyJJni"
      }
    },
    {
      "cell_type": "code",
      "source": [
        "N_TRAIN_EXAMPLES = 1024*1024\n",
        "N_FEATURES = 10\n",
        "SIZE_BATCHES = 256\n",
        "\n",
        "# generating the distributed data\n",
        "x = np.random.random((N_TRAIN_EXAMPLES, N_FEATURES))\n",
        "y = np.random.randint(2, size=(N_TRAIN_EXAMPLES, 1))\n",
        "x = tf.dtypes.cast(x, tf.float32)\n",
        "print(x)"
      ],
      "metadata": {
        "colab": {
          "base_uri": "https://localhost:8080/"
        },
        "id": "4YchPcg8JRxI",
        "outputId": "a179071b-667a-4c68-9e82-e5529fc9cf40"
      },
      "execution_count": 37,
      "outputs": [
        {
          "output_type": "stream",
          "name": "stdout",
          "text": [
            "tf.Tensor(\n",
            "[[0.19605176 0.32098588 0.5565651  ... 0.6678118  0.6509347  0.40295428]\n",
            " [0.00672834 0.60890687 0.5970018  ... 0.33838442 0.4008075  0.7016951 ]\n",
            " [0.30655473 0.45009416 0.40060434 ... 0.3938137  0.90638614 0.30166543]\n",
            " ...\n",
            " [0.1854783  0.6003934  0.5425693  ... 0.01046163 0.42967808 0.29364613]\n",
            " [0.77614826 0.29938215 0.5790488  ... 0.9813458  0.07891549 0.6953051 ]\n",
            " [0.8370791  0.2547559  0.73152065 ... 0.61183494 0.8983542  0.94695103]], shape=(1048576, 10), dtype=float32)\n"
          ]
        }
      ]
    },
    {
      "cell_type": "code",
      "source": [
        "dataset = tf.data.Dataset.from_tensor_slices((x, y))\n",
        "# shuffling the dataset\n",
        "dataset = dataset.shuffle(buffer_size=N_TRAIN_EXAMPLES).batch(SIZE_BATCHES)"
      ],
      "metadata": {
        "id": "KsC5DmgnJ2fW"
      },
      "execution_count": 39,
      "outputs": []
    },
    {
      "cell_type": "code",
      "source": [
        "distribution = tf.distribute.MirroredStrategy()"
      ],
      "metadata": {
        "id": "xJO2tKWTKMyx"
      },
      "execution_count": 40,
      "outputs": []
    },
    {
      "cell_type": "code",
      "source": [
        "with distribution.scope():\n",
        "  model = tf.keras.Sequential()\n",
        "  model.add(tf.keras.layers.Dense(16, activation='relu', input_shape=(N_FEATURES, )))\n",
        "  model.add(tf.keras.layers.Dense(1, activation='sigmoid'))\n",
        "  optimizer = tf.keras.optimizers.SGD(0.2)\n",
        "  model.compile(loss='binary_crossentropy', optimizer=optimizer)"
      ],
      "metadata": {
        "id": "lfH6tZmfKTZ9"
      },
      "execution_count": 41,
      "outputs": []
    },
    {
      "cell_type": "code",
      "source": [
        "model.summary()"
      ],
      "metadata": {
        "colab": {
          "base_uri": "https://localhost:8080/"
        },
        "id": "tcy9DcQFK272",
        "outputId": "9fc9c390-b5b7-4af6-d739-46b169fed6ef"
      },
      "execution_count": 42,
      "outputs": [
        {
          "output_type": "stream",
          "name": "stdout",
          "text": [
            "Model: \"sequential_6\"\n",
            "_________________________________________________________________\n",
            " Layer (type)                Output Shape              Param #   \n",
            "=================================================================\n",
            " dense (Dense)               (None, 16)                176       \n",
            "                                                                 \n",
            " dense_1 (Dense)             (None, 1)                 17        \n",
            "                                                                 \n",
            "=================================================================\n",
            "Total params: 193 (772.00 Byte)\n",
            "Trainable params: 193 (772.00 Byte)\n",
            "Non-trainable params: 0 (0.00 Byte)\n",
            "_________________________________________________________________\n"
          ]
        }
      ]
    },
    {
      "cell_type": "code",
      "source": [
        "model.fit(dataset, epochs=20, steps_per_epoch=100)"
      ],
      "metadata": {
        "colab": {
          "base_uri": "https://localhost:8080/"
        },
        "id": "1saP7Z5IK5Re",
        "outputId": "585eef6a-a1af-4724-be9c-b57351bdafa0"
      },
      "execution_count": 43,
      "outputs": [
        {
          "output_type": "stream",
          "name": "stdout",
          "text": [
            "Epoch 1/20\n",
            "100/100 [==============================] - 2s 2ms/step - loss: 0.6953\n",
            "Epoch 2/20\n",
            "100/100 [==============================] - 0s 2ms/step - loss: 0.6952\n",
            "Epoch 3/20\n",
            "100/100 [==============================] - 0s 2ms/step - loss: 0.6937\n",
            "Epoch 4/20\n",
            "100/100 [==============================] - 0s 2ms/step - loss: 0.6942\n",
            "Epoch 5/20\n",
            "100/100 [==============================] - 0s 2ms/step - loss: 0.6935\n",
            "Epoch 6/20\n",
            "100/100 [==============================] - 0s 2ms/step - loss: 0.6934\n",
            "Epoch 7/20\n",
            "100/100 [==============================] - 0s 2ms/step - loss: 0.6936\n",
            "Epoch 8/20\n",
            "100/100 [==============================] - 0s 2ms/step - loss: 0.6938\n",
            "Epoch 9/20\n",
            "100/100 [==============================] - 0s 2ms/step - loss: 0.6934\n",
            "Epoch 10/20\n",
            "100/100 [==============================] - 0s 2ms/step - loss: 0.6938\n",
            "Epoch 11/20\n",
            "100/100 [==============================] - 0s 2ms/step - loss: 0.6936\n",
            "Epoch 12/20\n",
            "100/100 [==============================] - 0s 2ms/step - loss: 0.6934\n",
            "Epoch 13/20\n",
            "100/100 [==============================] - 0s 2ms/step - loss: 0.6935\n",
            "Epoch 14/20\n",
            "100/100 [==============================] - 0s 2ms/step - loss: 0.6933\n",
            "Epoch 15/20\n",
            "100/100 [==============================] - 0s 2ms/step - loss: 0.6932\n",
            "Epoch 16/20\n",
            "100/100 [==============================] - 0s 2ms/step - loss: 0.6933\n",
            "Epoch 17/20\n",
            "100/100 [==============================] - 0s 2ms/step - loss: 0.6934\n",
            "Epoch 18/20\n",
            "100/100 [==============================] - 0s 2ms/step - loss: 0.6935\n",
            "Epoch 19/20\n",
            "100/100 [==============================] - 0s 2ms/step - loss: 0.6933\n",
            "Epoch 20/20\n",
            "100/100 [==============================] - 0s 2ms/step - loss: 0.6934\n"
          ]
        },
        {
          "output_type": "execute_result",
          "data": {
            "text/plain": [
              "<keras.src.callbacks.History at 0x7da12c12d540>"
            ]
          },
          "metadata": {},
          "execution_count": 43
        }
      ]
    }
  ]
}