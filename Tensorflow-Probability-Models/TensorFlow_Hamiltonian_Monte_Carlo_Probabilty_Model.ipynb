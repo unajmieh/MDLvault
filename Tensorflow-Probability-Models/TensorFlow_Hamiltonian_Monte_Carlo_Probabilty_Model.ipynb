{
  "nbformat": 4,
  "nbformat_minor": 0,
  "metadata": {
    "colab": {
      "provenance": [],
      "authorship_tag": "ABX9TyNFqODzWrNFACw6jKzgOvUf"
    },
    "kernelspec": {
      "name": "python3",
      "display_name": "Python 3"
    },
    "language_info": {
      "name": "python"
    }
  },
  "cells": [
    {
      "cell_type": "code",
      "execution_count": 2,
      "metadata": {
        "id": "qI0_stdJfZTd"
      },
      "outputs": [],
      "source": [
        "\n",
        "import numpy as np\n",
        "import scipy.stats as ss\n",
        "import pandas as pd\n",
        "import tensorflow.compat.v2 as tf\n",
        "tf.enable_v2_behavior()\n",
        "import tensorflow_probability as tfp\n",
        "tfd = tfp.distributions\n"
      ]
    },
    {
      "cell_type": "code",
      "source": [
        "from ipywidgets.widgets.widget_upload import register\n",
        "\n",
        "# Data viz\n",
        "import matplotlib.pyplot as plt\n",
        "from matplotlib.ticker import FormatStrFormatter\n",
        "import seaborn as sns\n",
        "\n",
        "sns.set_style(\n",
        "    style='darkgrid',\n",
        "    rc={'axes.facecolor': '.9', 'grid.color': '.8'}\n",
        ")\n",
        "\n",
        "sns.set_palette(palette='deep')\n",
        "sns_c = sns.color_palette(palette='deep')\n",
        "%matplotlib inline\n",
        "from pandas.plotting import register_matplotlib_converters\n",
        "\n",
        "register_matplotlib_converters()\n",
        "\n",
        "plt.rcParams['figure.figsize'] = [8, 6]\n",
        "plt.rcParams['figure.dpi'] = 100\n",
        "\n",
        "print(f'TnesorFlow version: {tf.__version__}')\n",
        "print(f'TnesorFlow Probability version: {tfp.__version__}')\n",
        "\n"
      ],
      "metadata": {
        "colab": {
          "base_uri": "https://localhost:8080/"
        },
        "id": "B94NAvjzg69G",
        "outputId": "3d69ba17-11a6-4de1-f1f8-b096b65fd04c"
      },
      "execution_count": 3,
      "outputs": [
        {
          "output_type": "stream",
          "name": "stdout",
          "text": [
            "TnesorFlow version: 2.12.0\n",
            "TnesorFlow Probability version: 0.20.1\n"
          ]
        }
      ]
    },
    {
      "cell_type": "code",
      "source": [],
      "metadata": {
        "id": "r29JxWpriAuV"
      },
      "execution_count": null,
      "outputs": []
    }
  ]
}